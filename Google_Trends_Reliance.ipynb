{
 "cells": [
  {
   "cell_type": "code",
   "execution_count": null,
   "id": "f01f1767",
   "metadata": {},
   "outputs": [],
   "source": [
    "%pip install pytrends"
   ]
  },
  {
   "cell_type": "code",
   "execution_count": 2,
   "id": "79a4e64c",
   "metadata": {},
   "outputs": [
    {
     "name": "stdout",
     "output_type": "stream",
     "text": [
      "[Retry 1/5] Error: The request failed: Google returned a response with code 429. Waiting 16s before retrying...\n",
      "[Retry 2/5] Error: The request failed: Google returned a response with code 429. Waiting 56s before retrying...\n"
     ]
    },
    {
     "name": "stderr",
     "output_type": "stream",
     "text": [
      "C:\\Users\\siddh\\AppData\\Roaming\\Python\\Python312\\site-packages\\pytrends\\request.py:260: FutureWarning: Downcasting object dtype arrays on .fillna, .ffill, .bfill is deprecated and will change in a future version. Call result.infer_objects(copy=False) instead. To opt-in to the future behavior, set `pd.set_option('future.no_silent_downcasting', True)`\n",
      "  df = df.fillna(False)\n",
      "C:\\Users\\siddh\\AppData\\Roaming\\Python\\Python312\\site-packages\\pytrends\\request.py:260: FutureWarning: Downcasting object dtype arrays on .fillna, .ffill, .bfill is deprecated and will change in a future version. Call result.infer_objects(copy=False) instead. To opt-in to the future behavior, set `pd.set_option('future.no_silent_downcasting', True)`\n",
      "  df = df.fillna(False)\n"
     ]
    },
    {
     "name": "stdout",
     "output_type": "stream",
     "text": [
      "Fetched category: All Categories\n"
     ]
    },
    {
     "name": "stderr",
     "output_type": "stream",
     "text": [
      "C:\\Users\\siddh\\AppData\\Roaming\\Python\\Python312\\site-packages\\pytrends\\request.py:260: FutureWarning: Downcasting object dtype arrays on .fillna, .ffill, .bfill is deprecated and will change in a future version. Call result.infer_objects(copy=False) instead. To opt-in to the future behavior, set `pd.set_option('future.no_silent_downcasting', True)`\n",
      "  df = df.fillna(False)\n"
     ]
    },
    {
     "name": "stdout",
     "output_type": "stream",
     "text": [
      "Fetched category: Arts & Entertainment\n",
      "Fetched category: Business\n",
      "Fetched category: Computers & Electronics\n"
     ]
    },
    {
     "name": "stderr",
     "output_type": "stream",
     "text": [
      "C:\\Users\\siddh\\AppData\\Roaming\\Python\\Python312\\site-packages\\pytrends\\request.py:260: FutureWarning: Downcasting object dtype arrays on .fillna, .ffill, .bfill is deprecated and will change in a future version. Call result.infer_objects(copy=False) instead. To opt-in to the future behavior, set `pd.set_option('future.no_silent_downcasting', True)`\n",
      "  df = df.fillna(False)\n"
     ]
    },
    {
     "name": "stdout",
     "output_type": "stream",
     "text": [
      "Fetched category: Finance\n"
     ]
    },
    {
     "name": "stderr",
     "output_type": "stream",
     "text": [
      "C:\\Users\\siddh\\AppData\\Roaming\\Python\\Python312\\site-packages\\pytrends\\request.py:260: FutureWarning: Downcasting object dtype arrays on .fillna, .ffill, .bfill is deprecated and will change in a future version. Call result.infer_objects(copy=False) instead. To opt-in to the future behavior, set `pd.set_option('future.no_silent_downcasting', True)`\n",
      "  df = df.fillna(False)\n"
     ]
    },
    {
     "name": "stdout",
     "output_type": "stream",
     "text": [
      "Fetched category: Sports\n",
      "Data extraction complete.\n",
      "\n",
      "Interest Over Time sample:\n",
      "                 date  reliance infra share price\n",
      "0 2025-07-18 08:00:00                          29\n",
      "1 2025-07-18 09:00:00                          31\n",
      "2 2025-07-18 10:00:00                          23\n",
      "3 2025-07-18 11:00:00                          11\n",
      "4 2025-07-18 12:00:00                          12\n",
      "\n",
      "Interest by Region sample:\n",
      "                       geoName  reliance infra share price\n",
      "0  Andaman and Nicobar Islands                           0\n",
      "1               Andhra Pradesh                          28\n",
      "2            Arunachal Pradesh                           0\n",
      "3                        Assam                           8\n",
      "4                        Bihar                           7\n",
      "\n",
      "Interest by Category sample:\n",
      "                 date  reliance infra share price        Category  index\n",
      "0 2025-07-18 08:00:00                        29.0  All Categories    NaN\n",
      "1 2025-07-18 09:00:00                        31.0  All Categories    NaN\n",
      "2 2025-07-18 10:00:00                        23.0  All Categories    NaN\n",
      "3 2025-07-18 11:00:00                        11.0  All Categories    NaN\n",
      "4 2025-07-18 12:00:00                        12.0  All Categories    NaN\n"
     ]
    }
   ],
   "source": [
    "from pytrends.request import TrendReq\n",
    "import pandas as pd\n",
    "import time\n",
    "import random\n",
    "\n",
    "# Safe wrapper for build_payload with retries and backoff\n",
    "def safe_build_payload(pytrends, kw_list, timeframe, geo, cat=0, max_retries=5):\n",
    "    for attempt in range(max_retries):\n",
    "        try:\n",
    "            pytrends.build_payload(kw_list=kw_list, timeframe=timeframe, geo=geo, cat=cat)\n",
    "            return True\n",
    "        except Exception as e:\n",
    "            wait_time = random.randint(15, 30) * (attempt + 1)  # exponential backoff\n",
    "            print(f\"[Retry {attempt+1}/{max_retries}] Error: {e}. Waiting {wait_time}s before retrying...\")\n",
    "            time.sleep(wait_time)\n",
    "    raise Exception(\"Max retries reached. Google is blocking the requests.\")\n",
    "\n",
    "# ---------- Setup ----------\n",
    "pytrends = TrendReq(hl='en-GB', tz=330)\n",
    "keywords = ['reliance infra share price']\n",
    "timeframe = 'now 7-d'  # Last 7 days\n",
    "geo = 'IN'\n",
    "\n",
    "# ---------- Interest over time ----------\n",
    "safe_build_payload(pytrends, keywords, timeframe, geo)\n",
    "interest_over_time = pytrends.interest_over_time()\n",
    "if 'isPartial' in interest_over_time.columns:\n",
    "    interest_over_time = interest_over_time.drop(columns=['isPartial'])\n",
    "interest_over_time.reset_index(inplace=True)\n",
    "\n",
    "# ---------- Interest by region ----------\n",
    "time.sleep(random.randint(10, 20))  # Delay to avoid immediate next request\n",
    "safe_build_payload(pytrends, keywords, timeframe, geo)\n",
    "interest_by_region = pytrends.interest_by_region(resolution='REGION', inc_low_vol=True).reset_index()\n",
    "\n",
    "# ---------- Interest by categories ----------\n",
    "categories = {\n",
    "    0: 'All Categories',\n",
    "    34: 'Arts & Entertainment',\n",
    "    3: 'Business',\n",
    "    5: 'Computers & Electronics',\n",
    "    7: 'Finance',\n",
    "    13: 'Sports'\n",
    "}\n",
    "\n",
    "category_data = []\n",
    "for cat_id, cat_name in categories.items():\n",
    "    for attempt in range(3):  # retry 3 times per category\n",
    "        try:\n",
    "            safe_build_payload(pytrends, keywords, timeframe, geo, cat=cat_id)\n",
    "            df = pytrends.interest_over_time().drop(columns='isPartial', errors='ignore').reset_index()\n",
    "            df['Category'] = cat_name\n",
    "            category_data.append(df)\n",
    "            print(f\"Fetched category: {cat_name}\")\n",
    "            break\n",
    "        except Exception as e:\n",
    "            print(f\"Error fetching category {cat_name} (attempt {attempt+1}): {e}\")\n",
    "            time.sleep(10 * (attempt + 1))\n",
    "    time.sleep(random.randint(10, 20))  # random delay between categories\n",
    "\n",
    "interest_by_category = pd.concat(category_data, ignore_index=True)\n",
    "\n",
    "# ---------- Save to CSV ----------\n",
    "interest_over_time.to_csv('reliance_trends_time.csv', index=False)\n",
    "interest_by_region.to_csv('reliance_trends_region.csv', index=False)\n",
    "interest_by_category.to_csv('reliance_trends_category.csv', index=False)\n",
    "\n",
    "print(\"Data extraction complete.\")\n",
    "print(\"\\nInterest Over Time sample:\")\n",
    "print(interest_over_time.head())\n",
    "print(\"\\nInterest by Region sample:\")\n",
    "print(interest_by_region.head())\n",
    "print(\"\\nInterest by Category sample:\")\n",
    "print(interest_by_category.head())\n"
   ]
  }
 ],
 "metadata": {
  "kernelspec": {
   "display_name": "Python 3",
   "language": "python",
   "name": "python3"
  },
  "language_info": {
   "codemirror_mode": {
    "name": "ipython",
    "version": 3
   },
   "file_extension": ".py",
   "mimetype": "text/x-python",
   "name": "python",
   "nbconvert_exporter": "python",
   "pygments_lexer": "ipython3",
   "version": "3.12.6"
  }
 },
 "nbformat": 4,
 "nbformat_minor": 5
}
